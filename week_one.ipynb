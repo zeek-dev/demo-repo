{
  "nbformat": 4,
  "nbformat_minor": 0,
  "metadata": {
    "colab": {
      "name": "week_one.ipynb",
      "provenance": [],
      "collapsed_sections": [],
      "authorship_tag": "ABX9TyMsSGRsxnCfcBIo199M2VVG",
      "include_colab_link": true
    },
    "kernelspec": {
      "name": "python3",
      "display_name": "Python 3"
    },
    "language_info": {
      "name": "python"
    }
  },
  "cells": [
    {
      "cell_type": "markdown",
      "metadata": {
        "id": "view-in-github",
        "colab_type": "text"
      },
      "source": [
        "<a href=\"https://colab.research.google.com/github/zeek-dev/demo-repo/blob/main/week_one.ipynb\" target=\"_parent\"><img src=\"https://colab.research.google.com/assets/colab-badge.svg\" alt=\"Open In Colab\"/></a>"
      ]
    },
    {
      "cell_type": "code",
      "execution_count": null,
      "metadata": {
        "colab": {
          "base_uri": "https://localhost:8080/"
        },
        "id": "aw85XQoleh71",
        "outputId": "9399ff4c-2dfb-4c7a-8d90-d66527f9ef91"
      },
      "outputs": [
        {
          "output_type": "stream",
          "name": "stdout",
          "text": [
            "{\"id\":\"dd04b7d0-cb3c-4caf-82fd-15d0a476bf87\",\"text\":\"The average North American will eat 35,000 cookies during their life span.\",\"source\":\"djtech.net\",\"source_url\":\"http:\\/\\/www.djtech.net\\/humor\\/useless_facts.htm\",\"language\":\"en\",\"permalink\":\"https:\\/\\/uselessfacts.jsph.pl\\/dd04b7d0-cb3c-4caf-82fd-15d0a476bf87\"}\n"
          ]
        }
      ],
      "source": [
        "import requests\n",
        "\n",
        "response = requests.get(\"https://uselessfacts.jsph.pl/random.json?language=en\")\n",
        "\n",
        "print (response.text)"
      ]
    },
    {
      "cell_type": "code",
      "source": [
        ""
      ],
      "metadata": {
        "id": "QA5C15PR6tv6"
      },
      "execution_count": null,
      "outputs": []
    },
    {
      "cell_type": "code",
      "source": [
        "from typing import Text\n",
        "params={\n",
        "    'language': 'en'\n",
        "}\n",
        "response = requests.get(\"https://uselessfacts.jsph.pl/random.json\",params=params)\n",
        "\n",
        "print(response.json().get('text'))"
      ],
      "metadata": {
        "colab": {
          "base_uri": "https://localhost:8080/"
        },
        "id": "YbkyDDBQm9oT",
        "outputId": "988b0f52-5bee-4a9c-f110-5901e289bf92"
      },
      "execution_count": null,
      "outputs": [
        {
          "output_type": "stream",
          "name": "stdout",
          "text": [
            "The name of the girl on the statue of liberty is Mother of Exiles.\n"
          ]
        }
      ]
    },
    {
      "cell_type": "code",
      "source": [
        "data =['Train', 'Bus', 'Car', 'Cart', 'Trolley']\n",
        "\n",
        "i = 0\n",
        "while i<len(data):\n",
        "  print(data[i], end=\" \")\n",
        "  i+=1"
      ],
      "metadata": {
        "id": "APnBLl_pnAKz",
        "colab": {
          "base_uri": "https://localhost:8080/"
        },
        "outputId": "d9e6944f-78dd-49af-f441-da4467d7c55d"
      },
      "execution_count": null,
      "outputs": [
        {
          "output_type": "stream",
          "name": "stdout",
          "text": [
            "Train Bus Car Cart Trolley "
          ]
        }
      ]
    },
    {
      "cell_type": "code",
      "source": [
        "data =['Train', 'Bus', 'Car', 'Cart', 'Trolley']\n",
        "for i , letter in enumerate(data):\n",
        "  print(i,letter, end=\"\\n\")"
      ],
      "metadata": {
        "colab": {
          "base_uri": "https://localhost:8080/"
        },
        "id": "8OmW6cVDJHuJ",
        "outputId": "b5a06660-8c1b-485d-b7e8-f2bc27850eda"
      },
      "execution_count": null,
      "outputs": [
        {
          "output_type": "stream",
          "name": "stdout",
          "text": [
            "0 Train\n",
            "1 Bus\n",
            "2 Car\n",
            "3 Cart\n",
            "4 Trolley\n"
          ]
        }
      ]
    },
    {
      "cell_type": "code",
      "source": [
        "from random import randint\n",
        "\n",
        "correct = randint(0,100)\n",
        "print(correct)\n",
        "\n",
        "while True:\n",
        "  guess = int(input())\n",
        "  print(type(guess), type(correct))\n",
        "  if guess == correct:\n",
        "    print(\"You Win\")\n",
        "    break"
      ],
      "metadata": {
        "colab": {
          "base_uri": "https://localhost:8080/"
        },
        "id": "s-K6WdPDMMij",
        "outputId": "f6e51089-c0b1-4bfb-8780-8b52aedc719a"
      },
      "execution_count": null,
      "outputs": [
        {
          "output_type": "stream",
          "name": "stdout",
          "text": [
            "60\n",
            "88\n",
            "<class 'int'> <class 'int'>\n",
            "60\n",
            "<class 'int'> <class 'int'>\n",
            "You Win\n"
          ]
        }
      ]
    },
    {
      "cell_type": "code",
      "source": [
        ""
      ],
      "metadata": {
        "id": "Q82dqr_dObte"
      },
      "execution_count": null,
      "outputs": []
    },
    {
      "cell_type": "code",
      "source": [
        "from random import randint\n",
        "\n",
        "##print(correct)\n",
        "low = 0\n",
        "high = 100 \n",
        "correct = randint(low,high)\n",
        "print(f'Guess a number between {low} and {high}.')\n",
        "while True:\n",
        "  guess = int(input()) ## type casting use int()\n",
        "\n",
        "  if guess < correct:\n",
        "    print(\"Guess higher\")\n",
        "  elif guess > correct:\n",
        "    print(\"Guess lower\")\n",
        "  else:\n",
        "    print(\"You Win\")\n",
        "    break"
      ],
      "metadata": {
        "colab": {
          "base_uri": "https://localhost:8080/"
        },
        "outputId": "ae513460-4a44-4302-c27b-c52bce51426e",
        "id": "ZrV3AAYlOcTq"
      },
      "execution_count": null,
      "outputs": [
        {
          "output_type": "stream",
          "name": "stdout",
          "text": [
            "Guess a number between 0 and 100.\n",
            "50\n",
            "Guess lower\n",
            "25\n",
            "Guess higher\n",
            "35\n",
            "Guess lower\n",
            "30\n",
            "Guess higher\n",
            "33\n",
            "Guess lower\n",
            "32\n",
            "Guess lower\n",
            "31\n",
            "You Win\n"
          ]
        }
      ]
    },
    {
      "cell_type": "code",
      "source": [
        ""
      ],
      "metadata": {
        "id": "NNTLxoMOMnly"
      },
      "execution_count": null,
      "outputs": []
    }
  ]
}